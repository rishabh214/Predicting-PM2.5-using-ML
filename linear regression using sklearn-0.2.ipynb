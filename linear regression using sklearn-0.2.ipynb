{
 "cells": [
  {
   "cell_type": "code",
   "execution_count": 1,
   "metadata": {},
   "outputs": [],
   "source": [
    "import pandas as pd\n",
    "import numpy as np\n",
    "import seaborn as sns\n",
    "import matplotlib.pyplot as plt \n"
   ]
  },
  {
   "cell_type": "code",
   "execution_count": 2,
   "metadata": {},
   "outputs": [
    {
     "data": {
      "text/html": [
       "<div>\n",
       "<style scoped>\n",
       "    .dataframe tbody tr th:only-of-type {\n",
       "        vertical-align: middle;\n",
       "    }\n",
       "\n",
       "    .dataframe tbody tr th {\n",
       "        vertical-align: top;\n",
       "    }\n",
       "\n",
       "    .dataframe thead th {\n",
       "        text-align: right;\n",
       "    }\n",
       "</style>\n",
       "<table border=\"1\" class=\"dataframe\">\n",
       "  <thead>\n",
       "    <tr style=\"text-align: right;\">\n",
       "      <th></th>\n",
       "      <th>pm2.5</th>\n",
       "      <th>pm10</th>\n",
       "      <th>temp</th>\n",
       "      <th>bp</th>\n",
       "      <th>rh</th>\n",
       "      <th>ws</th>\n",
       "    </tr>\n",
       "  </thead>\n",
       "  <tbody>\n",
       "    <tr>\n",
       "      <td>3</td>\n",
       "      <td>565.0</td>\n",
       "      <td>718.0</td>\n",
       "      <td>34.0</td>\n",
       "      <td>740.0</td>\n",
       "      <td>85.0</td>\n",
       "      <td>1.0</td>\n",
       "    </tr>\n",
       "    <tr>\n",
       "      <td>4</td>\n",
       "      <td>565.0</td>\n",
       "      <td>718.0</td>\n",
       "      <td>34.0</td>\n",
       "      <td>740.0</td>\n",
       "      <td>85.0</td>\n",
       "      <td>0.7</td>\n",
       "    </tr>\n",
       "    <tr>\n",
       "      <td>5</td>\n",
       "      <td>565.0</td>\n",
       "      <td>NaN</td>\n",
       "      <td>33.0</td>\n",
       "      <td>740.0</td>\n",
       "      <td>84.0</td>\n",
       "      <td>1.2</td>\n",
       "    </tr>\n",
       "    <tr>\n",
       "      <td>6</td>\n",
       "      <td>565.0</td>\n",
       "      <td>718.0</td>\n",
       "      <td>32.0</td>\n",
       "      <td>740.0</td>\n",
       "      <td>85.0</td>\n",
       "      <td>0.6</td>\n",
       "    </tr>\n",
       "    <tr>\n",
       "      <td>7</td>\n",
       "      <td>334.0</td>\n",
       "      <td>449.0</td>\n",
       "      <td>34.0</td>\n",
       "      <td>740.0</td>\n",
       "      <td>86.0</td>\n",
       "      <td>0.4</td>\n",
       "    </tr>\n",
       "    <tr>\n",
       "      <td>...</td>\n",
       "      <td>...</td>\n",
       "      <td>...</td>\n",
       "      <td>...</td>\n",
       "      <td>...</td>\n",
       "      <td>...</td>\n",
       "      <td>...</td>\n",
       "    </tr>\n",
       "    <tr>\n",
       "      <td>8426</td>\n",
       "      <td>5.0</td>\n",
       "      <td>24.0</td>\n",
       "      <td>27.0</td>\n",
       "      <td>742.0</td>\n",
       "      <td>49.0</td>\n",
       "      <td>2.9</td>\n",
       "    </tr>\n",
       "    <tr>\n",
       "      <td>8427</td>\n",
       "      <td>6.0</td>\n",
       "      <td>28.0</td>\n",
       "      <td>27.0</td>\n",
       "      <td>742.0</td>\n",
       "      <td>50.0</td>\n",
       "      <td>2.3</td>\n",
       "    </tr>\n",
       "    <tr>\n",
       "      <td>8428</td>\n",
       "      <td>6.0</td>\n",
       "      <td>28.0</td>\n",
       "      <td>27.0</td>\n",
       "      <td>742.0</td>\n",
       "      <td>53.0</td>\n",
       "      <td>1.6</td>\n",
       "    </tr>\n",
       "    <tr>\n",
       "      <td>8429</td>\n",
       "      <td>6.0</td>\n",
       "      <td>28.0</td>\n",
       "      <td>27.0</td>\n",
       "      <td>742.0</td>\n",
       "      <td>54.0</td>\n",
       "      <td>1.7</td>\n",
       "    </tr>\n",
       "    <tr>\n",
       "      <td>8430</td>\n",
       "      <td>6.0</td>\n",
       "      <td>NaN</td>\n",
       "      <td>27.8</td>\n",
       "      <td>742.0</td>\n",
       "      <td>56.0</td>\n",
       "      <td>1.4</td>\n",
       "    </tr>\n",
       "  </tbody>\n",
       "</table>\n",
       "<p>8428 rows × 6 columns</p>\n",
       "</div>"
      ],
      "text/plain": [
       "      pm2.5   pm10  temp     bp    rh   ws\n",
       "3     565.0  718.0  34.0  740.0  85.0  1.0\n",
       "4     565.0  718.0  34.0  740.0  85.0  0.7\n",
       "5     565.0    NaN  33.0  740.0  84.0  1.2\n",
       "6     565.0  718.0  32.0  740.0  85.0  0.6\n",
       "7     334.0  449.0  34.0  740.0  86.0  0.4\n",
       "...     ...    ...   ...    ...   ...  ...\n",
       "8426    5.0   24.0  27.0  742.0  49.0  2.9\n",
       "8427    6.0   28.0  27.0  742.0  50.0  2.3\n",
       "8428    6.0   28.0  27.0  742.0  53.0  1.6\n",
       "8429    6.0   28.0  27.0  742.0  54.0  1.7\n",
       "8430    6.0    NaN  27.8  742.0  56.0  1.4\n",
       "\n",
       "[8428 rows x 6 columns]"
      ]
     },
     "execution_count": 2,
     "metadata": {},
     "output_type": "execute_result"
    }
   ],
   "source": [
    "df=pd.read_csv('data.csv')\n",
    "df.drop([0,1,2],inplace=True)\n",
    "df.drop('so2',axis=1,inplace=True)\n",
    "df.drop(['start','end'],axis=1,inplace=True)\n",
    "df.drop(['o3', 'co','nox'],axis=1,inplace=True)\n",
    "\n",
    "\n",
    "df"
   ]
  },
  {
   "cell_type": "code",
   "execution_count": 3,
   "metadata": {},
   "outputs": [],
   "source": [
    "df.isnull().sum()\n",
    "df.dropna(subset=['pm2.5', 'pm10'],inplace=True)\n"
   ]
  },
  {
   "cell_type": "code",
   "execution_count": 4,
   "metadata": {},
   "outputs": [
    {
     "data": {
      "text/plain": [
       "pm2.5    0\n",
       "pm10     0\n",
       "temp     0\n",
       "bp       0\n",
       "rh       0\n",
       "ws       0\n",
       "dtype: int64"
      ]
     },
     "execution_count": 4,
     "metadata": {},
     "output_type": "execute_result"
    }
   ],
   "source": [
    "df.dtypes\n",
    "df.dropna(subset=['temp','bp','rh','ws'],inplace=True)\n",
    "df.isnull().sum()\n"
   ]
  },
  {
   "cell_type": "code",
   "execution_count": 50,
   "metadata": {},
   "outputs": [],
   "source": [
    "# df['pm10'].fillna(df['pm10'].mean(),inplace=True)\n",
    "# df['pm2.5'].fillna(df['pm2.5'].mean(),inplace=True)\n",
    "df['co'].fillna(df['co'].mean(),inplace=True)\n",
    "df['o3'].fillna(df['o3'].mean(),inplace=True)\n",
    "df['nox'].fillna(df['nox'].mean(),inplace=True)\n",
    "# df['temp'].fillna(df['temp'].mean(),inplace=True)\n",
    "# df['rh'].fillna(df['rh'].mean(),inplace=True)\n",
    "# df['ws'].fillna(df['ws'].mean(),inplace=True)\n",
    "# df['bp'].fillna(df['bp'].mean(),inplace=True)\n",
    "# df['so2'].fillna(df['so2'].mean(),inplace=True)"
   ]
  },
  {
   "cell_type": "code",
   "execution_count": 71,
   "metadata": {},
   "outputs": [],
   "source": [
    "#df['pm10'].iloc[0]=760\n",
    "df['o3'].iloc[0]=0.6\n",
    "# a=df['pm2.5']\n",
    "# a.fillna(0,inplace=True)\n",
    "# c=df['pm10']\n",
    "# c.fillna(0,inplace=True)\n",
    "b=df['co']\n",
    "b.fillna(0,inplace=True)\n",
    "d=df['o3']\n",
    "d.fillna(0,inplace=True)\n",
    "e=df['nox']\n",
    "e.fillna(0,inplace=True)\n",
    "# f=df['temp']\n",
    "# f.fillna(0,inplace=True)\n",
    "# g=df['rh']\n",
    "# g.fillna(0,inplace=True)\n",
    "# h=df['ws']\n",
    "# h.fillna(0,inplace=True)\n",
    "# j=df['so2']\n",
    "# j.fillna(0,inplace=True)\n",
    "\n",
    "\n",
    "for i in range(0,7449):\n",
    "   \n",
    "#     if (a.iloc[i]==0):\n",
    "#         a.iloc[i]=a.iloc[i-1]    #filling previoyus data\n",
    "    \n",
    "#     if (c.iloc[i]==0):\n",
    "#         c.iloc[i]=c.iloc[i-1]\n",
    "    \n",
    "    if (b.iloc[i]==0):\n",
    "        b.iloc[i]=b.iloc[i-1]\n",
    "    \n",
    "    if (d.iloc[i]==0):\n",
    "        d.iloc[i]=d.iloc[i-1]\n",
    "        \n",
    "    if (e.iloc[i]==0):\n",
    "        e.iloc[i]=e.iloc[i-1]\n",
    "        \n",
    "#     if (f.iloc[i]==0):\n",
    "#         f.iloc[i]=f.iloc[i-1]\n",
    "    \n",
    "#     if (g.iloc[i]==0):\n",
    "#         g.iloc[i]=g.iloc[i-1]\n",
    "    \n",
    "#     if (h.iloc[i]==0):\n",
    "#         h.iloc[i]=h.iloc[i-1]\n",
    "    \n",
    "#     if (j.iloc[i]==0):\n",
    "#         j.iloc[i]=j.iloc[i-1]\n",
    "   "
   ]
  },
  {
   "cell_type": "code",
   "execution_count": 5,
   "metadata": {},
   "outputs": [
    {
     "data": {
      "text/plain": [
       "pm2.5    0\n",
       "pm10     0\n",
       "temp     0\n",
       "bp       0\n",
       "rh       0\n",
       "ws       0\n",
       "dtype: int64"
      ]
     },
     "execution_count": 5,
     "metadata": {},
     "output_type": "execute_result"
    }
   ],
   "source": [
    "df.isnull().sum()\n"
   ]
  },
  {
   "cell_type": "code",
   "execution_count": 6,
   "metadata": {},
   "outputs": [
    {
     "data": {
      "text/html": [
       "<div>\n",
       "<style scoped>\n",
       "    .dataframe tbody tr th:only-of-type {\n",
       "        vertical-align: middle;\n",
       "    }\n",
       "\n",
       "    .dataframe tbody tr th {\n",
       "        vertical-align: top;\n",
       "    }\n",
       "\n",
       "    .dataframe thead th {\n",
       "        text-align: right;\n",
       "    }\n",
       "</style>\n",
       "<table border=\"1\" class=\"dataframe\">\n",
       "  <thead>\n",
       "    <tr style=\"text-align: right;\">\n",
       "      <th></th>\n",
       "      <th>pm2.5</th>\n",
       "      <th>pm10</th>\n",
       "      <th>temp</th>\n",
       "      <th>bp</th>\n",
       "      <th>rh</th>\n",
       "      <th>ws</th>\n",
       "    </tr>\n",
       "  </thead>\n",
       "  <tbody>\n",
       "    <tr>\n",
       "      <td>count</td>\n",
       "      <td>7637.000000</td>\n",
       "      <td>7637.000000</td>\n",
       "      <td>7637.000000</td>\n",
       "      <td>7637.000000</td>\n",
       "      <td>7637.000000</td>\n",
       "      <td>7637.000000</td>\n",
       "    </tr>\n",
       "    <tr>\n",
       "      <td>mean</td>\n",
       "      <td>123.536991</td>\n",
       "      <td>208.733272</td>\n",
       "      <td>30.623216</td>\n",
       "      <td>740.530313</td>\n",
       "      <td>65.592903</td>\n",
       "      <td>1.664423</td>\n",
       "    </tr>\n",
       "    <tr>\n",
       "      <td>std</td>\n",
       "      <td>90.085514</td>\n",
       "      <td>125.316455</td>\n",
       "      <td>1.827058</td>\n",
       "      <td>4.668478</td>\n",
       "      <td>17.495129</td>\n",
       "      <td>0.987604</td>\n",
       "    </tr>\n",
       "    <tr>\n",
       "      <td>min</td>\n",
       "      <td>2.000000</td>\n",
       "      <td>13.000000</td>\n",
       "      <td>25.000000</td>\n",
       "      <td>714.000000</td>\n",
       "      <td>16.000000</td>\n",
       "      <td>0.300000</td>\n",
       "    </tr>\n",
       "    <tr>\n",
       "      <td>25%</td>\n",
       "      <td>61.000000</td>\n",
       "      <td>128.000000</td>\n",
       "      <td>29.000000</td>\n",
       "      <td>741.000000</td>\n",
       "      <td>53.000000</td>\n",
       "      <td>0.900000</td>\n",
       "    </tr>\n",
       "    <tr>\n",
       "      <td>50%</td>\n",
       "      <td>102.000000</td>\n",
       "      <td>184.000000</td>\n",
       "      <td>31.000000</td>\n",
       "      <td>741.000000</td>\n",
       "      <td>67.000000</td>\n",
       "      <td>1.600000</td>\n",
       "    </tr>\n",
       "    <tr>\n",
       "      <td>75%</td>\n",
       "      <td>162.000000</td>\n",
       "      <td>261.000000</td>\n",
       "      <td>32.000000</td>\n",
       "      <td>742.000000</td>\n",
       "      <td>80.000000</td>\n",
       "      <td>2.300000</td>\n",
       "    </tr>\n",
       "    <tr>\n",
       "      <td>max</td>\n",
       "      <td>726.000000</td>\n",
       "      <td>959.000000</td>\n",
       "      <td>35.000000</td>\n",
       "      <td>743.000000</td>\n",
       "      <td>99.000000</td>\n",
       "      <td>5.700000</td>\n",
       "    </tr>\n",
       "  </tbody>\n",
       "</table>\n",
       "</div>"
      ],
      "text/plain": [
       "             pm2.5         pm10         temp           bp           rh  \\\n",
       "count  7637.000000  7637.000000  7637.000000  7637.000000  7637.000000   \n",
       "mean    123.536991   208.733272    30.623216   740.530313    65.592903   \n",
       "std      90.085514   125.316455     1.827058     4.668478    17.495129   \n",
       "min       2.000000    13.000000    25.000000   714.000000    16.000000   \n",
       "25%      61.000000   128.000000    29.000000   741.000000    53.000000   \n",
       "50%     102.000000   184.000000    31.000000   741.000000    67.000000   \n",
       "75%     162.000000   261.000000    32.000000   742.000000    80.000000   \n",
       "max     726.000000   959.000000    35.000000   743.000000    99.000000   \n",
       "\n",
       "                ws  \n",
       "count  7637.000000  \n",
       "mean      1.664423  \n",
       "std       0.987604  \n",
       "min       0.300000  \n",
       "25%       0.900000  \n",
       "50%       1.600000  \n",
       "75%       2.300000  \n",
       "max       5.700000  "
      ]
     },
     "execution_count": 6,
     "metadata": {},
     "output_type": "execute_result"
    }
   ],
   "source": [
    "df.describe()"
   ]
  },
  {
   "cell_type": "code",
   "execution_count": 21,
   "metadata": {},
   "outputs": [],
   "source": [
    "df.to_csv('DataV.2.csv',index=False)"
   ]
  },
  {
   "cell_type": "code",
   "execution_count": 8,
   "metadata": {},
   "outputs": [
    {
     "data": {
      "text/plain": [
       "Index(['pm2.5', 'pm10', 'temp', 'bp', 'rh', 'ws'], dtype='object')"
      ]
     },
     "execution_count": 8,
     "metadata": {},
     "output_type": "execute_result"
    }
   ],
   "source": [
    "df.columns"
   ]
  },
  {
   "cell_type": "code",
   "execution_count": 9,
   "metadata": {},
   "outputs": [],
   "source": [
    "Y=df['pm2.5']"
   ]
  },
  {
   "cell_type": "code",
   "execution_count": 10,
   "metadata": {},
   "outputs": [],
   "source": [
    "X=df[['pm10', 'temp','bp', 'rh', 'ws']]\n",
    "#X=df[['pm10','rh']]"
   ]
  },
  {
   "cell_type": "code",
   "execution_count": 11,
   "metadata": {},
   "outputs": [],
   "source": [
    "from sklearn.model_selection import train_test_split"
   ]
  },
  {
   "cell_type": "code",
   "execution_count": 12,
   "metadata": {},
   "outputs": [],
   "source": [
    "X_train,X_test,Y_train,Y_test = train_test_split( X,Y, test_size=0.3, random_state=34)"
   ]
  },
  {
   "cell_type": "code",
   "execution_count": 13,
   "metadata": {},
   "outputs": [],
   "source": [
    "from sklearn.linear_model import LinearRegression"
   ]
  },
  {
   "cell_type": "code",
   "execution_count": 14,
   "metadata": {},
   "outputs": [],
   "source": [
    "lm=LinearRegression()"
   ]
  },
  {
   "cell_type": "code",
   "execution_count": 15,
   "metadata": {},
   "outputs": [
    {
     "data": {
      "text/plain": [
       "LinearRegression(copy_X=True, fit_intercept=True, n_jobs=None, normalize=False)"
      ]
     },
     "execution_count": 15,
     "metadata": {},
     "output_type": "execute_result"
    }
   ],
   "source": [
    "lm.fit(X_train,Y_train)"
   ]
  },
  {
   "cell_type": "code",
   "execution_count": 16,
   "metadata": {},
   "outputs": [
    {
     "data": {
      "text/plain": [
       "array([ 0.66164572,  0.21794737, -0.34966979,  0.92381487,  2.40023582])"
      ]
     },
     "execution_count": 16,
     "metadata": {},
     "output_type": "execute_result"
    }
   ],
   "source": [
    "lm.coef_"
   ]
  },
  {
   "cell_type": "code",
   "execution_count": 17,
   "metadata": {},
   "outputs": [],
   "source": [
    "predictions=lm.predict(X_test)"
   ]
  },
  {
   "cell_type": "code",
   "execution_count": 18,
   "metadata": {},
   "outputs": [
    {
     "data": {
      "text/plain": [
       "Text(0, 0.5, 'predicted values')"
      ]
     },
     "execution_count": 18,
     "metadata": {},
     "output_type": "execute_result"
    },
    {
     "data": {
      "image/png": "[encoded data removed]",
      "text/plain": [
       "<Figure size 1152x648 with 1 Axes>"
      ]
     },
     "metadata": {
      "needs_background": "light"
     },
     "output_type": "display_data"
    }
   ],
   "source": [
    "plt.figure(figsize=(16,9))\n",
    "plt.scatter(Y_test,predictions)\n",
    "sns.regplot(Y_test,predictions,scatter=False,color='red')\n",
    "plt.xlabel('Y_test(trueValues)')\n",
    "plt.ylabel('predicted values')\n"
   ]
  },
  {
   "cell_type": "code",
   "execution_count": 19,
   "metadata": {},
   "outputs": [],
   "source": [
    "from sklearn import metrics"
   ]
  },
  {
   "cell_type": "code",
   "execution_count": 20,
   "metadata": {},
   "outputs": [
    {
     "name": "stdout",
     "output_type": "stream",
     "text": [
      "MAE 18.43568892575534\n",
      "MSE 696.0236343467142\n",
      "RMSE 26.382259841543412\n"
     ]
    }
   ],
   "source": [
    "print('MAE',metrics.mean_absolute_error(Y_test,predictions))\n",
    "print('MSE',metrics.mean_squared_error(Y_test,predictions))\n",
    "print('RMSE',np.sqrt(metrics.mean_squared_error(Y_test,predictions)))"
   ]
  },
  {
   "cell_type": "code",
   "execution_count": null,
   "metadata": {},
   "outputs": [],
   "source": []
  }
 ],
 "metadata": {
  "kernelspec": {
   "display_name": "Python 3",
   "language": "python",
   "name": "python3"
  },
  "language_info": {
   "codemirror_mode": {
    "name": "ipython",
    "version": 3
   },
   "file_extension": ".py",
   "mimetype": "text/x-python",
   "name": "python",
   "nbconvert_exporter": "python",
   "pygments_lexer": "ipython3",
   "version": "3.7.4"
  }
 },
 "nbformat": 4,
 "nbformat_minor": 2
}
